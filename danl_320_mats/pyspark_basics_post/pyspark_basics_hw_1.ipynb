{
  "nbformat": 4,
  "nbformat_minor": 0,
  "metadata": {
    "colab": {
      "provenance": []
    },
    "kernelspec": {
      "name": "python3",
      "display_name": "Python 3"
    },
    "language_info": {
      "name": "python"
    }
  },
  "cells": [
    {
      "cell_type": "markdown",
      "source": [
        "---\n",
        "title: 'PySpark Basics | Hw 1 Post'\n",
        "subtitle: 'Within this post the basics of PySpark will be discussed'\n",
        "author: 'Daniel Noone'\n",
        "date: 2025-02-14\n",
        "categories: ['PySpark', 'Homework']\n",
        "image: \"pyspark.png\"\n",
        "\n",
        "toc: true\n",
        "---"
      ],
      "metadata": {
        "id": "8Nfx1lpY_eRB"
      }
    },
    {
      "cell_type": "markdown",
      "source": [
        "# What is Apache Spark?"
      ],
      "metadata": {
        "id": "Mx0fki1pafaK"
      }
    },
    {
      "cell_type": "markdown",
      "source": [
        "- A distributed processing system which is mainly used for large sizes of data sets\n",
        "- Provides multiple libraries:\n",
        "  - Parallel processing\n",
        "  - Machine learning\n",
        "  - etc.\n",
        "- **Spark Structure on Cluster of Computers**\n",
        "  - `Driver` communicates with `cluster manager` to get worker nodes\n",
        "  - `Cluster manager` allocates the necessary resources (nodes) and assigns pieces of the total process\n",
        "  - `Worker nodes` perform given tasks (pieces of a larger process) and return the result to the `Driver node`"
      ],
      "metadata": {
        "id": "7EHqZC9GaiVA"
      }
    },
    {
      "cell_type": "markdown",
      "source": [
        "# Import proper library components to start a `PySpark` session"
      ],
      "metadata": {
        "id": "l6INMS6v_gq3"
      }
    },
    {
      "cell_type": "code",
      "execution_count": 2,
      "metadata": {
        "id": "hywI8KL4_WHF"
      },
      "outputs": [],
      "source": [
        "from pyspark.sql import SparkSession\n",
        "import pandas as pd\n",
        "\n",
        "spark = SparkSession.builder.master(\"local[*]\").getOrCreate() # line needs to be run prior to loading new data\n",
        "df_pd = pd.read_csv('https://bcdanl.github.io/data/nba.csv') # pandas read_csv() method used to load csv\n",
        "df = spark.createDataFrame(df_pd) # .createDataFrame() used to load pandas df into current spark session"
      ]
    },
    {
      "cell_type": "markdown",
      "source": [
        "# General PySpark Methods"
      ],
      "metadata": {
        "id": "ce3LMo4iBbgM"
      }
    },
    {
      "cell_type": "code",
      "source": [
        "df.show(5) # Shows top 20 rows of df by default\n",
        "\n",
        "# Accepts n, truncate and vertical parameters which are optional\n",
        "# n specifies number of rows to show\n",
        "# truncate True False or and int, specifies whether or not long strings will be truncated, default is 20 chars\n",
        "# vertical, if True displays each row vertically (useful for wide tables)"
      ],
      "metadata": {
        "colab": {
          "base_uri": "https://localhost:8080/"
        },
        "id": "5NWwzQBNBX0_",
        "outputId": "2dddf972-674f-425a-86e5-da3cc01f335a"
      },
      "execution_count": 3,
      "outputs": [
        {
          "output_type": "stream",
          "name": "stdout",
          "text": [
            "+--------------+------------------+--------+--------+-------+\n",
            "|          Name|              Team|Position|Birthday| Salary|\n",
            "+--------------+------------------+--------+--------+-------+\n",
            "|  Shake Milton|Philadelphia 76ers|      SG| 9/26/96|1445697|\n",
            "|Christian Wood|   Detroit Pistons|      PF| 9/27/95|1645357|\n",
            "| PJ Washington| Charlotte Hornets|      PF| 8/23/98|3831840|\n",
            "|  Derrick Rose|   Detroit Pistons|      PG| 10/4/88|7317074|\n",
            "| Marial Shayok|Philadelphia 76ers|       G| 7/26/95|  79568|\n",
            "+--------------+------------------+--------+--------+-------+\n",
            "only showing top 5 rows\n",
            "\n"
          ]
        }
      ]
    },
    {
      "cell_type": "code",
      "source": [
        "df.printSchema() # prints schema of df in tree forman, nullable = true means var can contain null vals\n",
        "\n",
        "df.columns # prints columns of df"
      ],
      "metadata": {
        "colab": {
          "base_uri": "https://localhost:8080/"
        },
        "id": "yPRDESBnBulC",
        "outputId": "a284f3f9-14e3-46d2-e0d5-3551f8b89439"
      },
      "execution_count": 4,
      "outputs": [
        {
          "output_type": "stream",
          "name": "stdout",
          "text": [
            "root\n",
            " |-- Name: string (nullable = true)\n",
            " |-- Team: string (nullable = true)\n",
            " |-- Position: string (nullable = true)\n",
            " |-- Birthday: string (nullable = true)\n",
            " |-- Salary: long (nullable = true)\n",
            "\n"
          ]
        },
        {
          "output_type": "execute_result",
          "data": {
            "text/plain": [
              "['Name', 'Team', 'Position', 'Birthday', 'Salary']"
            ]
          },
          "metadata": {},
          "execution_count": 4
        }
      ]
    },
    {
      "cell_type": "code",
      "source": [
        "df.dtypes # prints list of tuples with column name and data type [('varname', 'dtype'), etc...]"
      ],
      "metadata": {
        "colab": {
          "base_uri": "https://localhost:8080/"
        },
        "id": "DrKw4Du6CfaH",
        "outputId": "bf457069-67cb-4909-f88f-fc25f9756a8f"
      },
      "execution_count": 5,
      "outputs": [
        {
          "output_type": "execute_result",
          "data": {
            "text/plain": [
              "[('Name', 'string'),\n",
              " ('Team', 'string'),\n",
              " ('Position', 'string'),\n",
              " ('Birthday', 'string'),\n",
              " ('Salary', 'bigint')]"
            ]
          },
          "metadata": {},
          "execution_count": 5
        }
      ]
    },
    {
      "cell_type": "code",
      "source": [
        "df.describe().show() # .describe computes summary stats, .show displays them"
      ],
      "metadata": {
        "colab": {
          "base_uri": "https://localhost:8080/"
        },
        "id": "PmlrUJ3CChbX",
        "outputId": "716a70de-62ea-4b2b-e725-aeff4cb7909e"
      },
      "execution_count": 6,
      "outputs": [
        {
          "output_type": "stream",
          "name": "stdout",
          "text": [
            "+-------+--------------+------------------+--------+--------+-----------------+\n",
            "|summary|          Name|              Team|Position|Birthday|           Salary|\n",
            "+-------+--------------+------------------+--------+--------+-----------------+\n",
            "|  count|           450|               450|     450|     450|              450|\n",
            "|   mean|          NULL|              NULL|    NULL|    NULL|7653583.764444444|\n",
            "| stddev|          NULL|              NULL|    NULL|    NULL|9288810.298497688|\n",
            "|    min|  Aaron Gordon|     Atlanta Hawks|       C| 1/10/98|            79568|\n",
            "|    max|Zylan Cheatham|Washington Wizards|      SG|  9/9/93|         40231758|\n",
            "+-------+--------------+------------------+--------+--------+-----------------+\n",
            "\n"
          ]
        }
      ]
    },
    {
      "cell_type": "code",
      "source": [
        "df.select('Name').show(5)\n",
        "\n",
        "df.select('Name', 'Team', 'Salary').show(5)\n",
        "# .select is used to select vars from df, .show displays them"
      ],
      "metadata": {
        "colab": {
          "base_uri": "https://localhost:8080/"
        },
        "id": "q-3694C5Ckzn",
        "outputId": "31cf0d28-5d7c-4594-f17c-0c4baf306f2a"
      },
      "execution_count": 7,
      "outputs": [
        {
          "output_type": "stream",
          "name": "stdout",
          "text": [
            "+--------------+\n",
            "|          Name|\n",
            "+--------------+\n",
            "|  Shake Milton|\n",
            "|Christian Wood|\n",
            "| PJ Washington|\n",
            "|  Derrick Rose|\n",
            "| Marial Shayok|\n",
            "+--------------+\n",
            "only showing top 5 rows\n",
            "\n",
            "+--------------+------------------+-------+\n",
            "|          Name|              Team| Salary|\n",
            "+--------------+------------------+-------+\n",
            "|  Shake Milton|Philadelphia 76ers|1445697|\n",
            "|Christian Wood|   Detroit Pistons|1645357|\n",
            "| PJ Washington| Charlotte Hornets|3831840|\n",
            "|  Derrick Rose|   Detroit Pistons|7317074|\n",
            "| Marial Shayok|Philadelphia 76ers|  79568|\n",
            "+--------------+------------------+-------+\n",
            "only showing top 5 rows\n",
            "\n"
          ]
        }
      ]
    },
    {
      "cell_type": "markdown",
      "source": [
        "# Data Transformation with PySpark"
      ],
      "metadata": {
        "id": "GM0N_wswBJgp"
      }
    },
    {
      "cell_type": "markdown",
      "source": [
        "## Counting operations"
      ],
      "metadata": {
        "id": "FUdwfZTeBPNi"
      }
    },
    {
      "cell_type": "code",
      "source": [
        "from pyspark.sql.functions import countDistinct\n",
        "\n",
        "num_teams = df.select(countDistinct('Team')).collect()[0][0]\n",
        "num_teams # Simply returns number of distinct teams"
      ],
      "metadata": {
        "colab": {
          "base_uri": "https://localhost:8080/"
        },
        "id": "FMl89BKvcaCM",
        "outputId": "7ba81e89-7da6-4670-fc6e-047ab227c417"
      },
      "execution_count": 8,
      "outputs": [
        {
          "output_type": "execute_result",
          "data": {
            "text/plain": [
              "30"
            ]
          },
          "metadata": {},
          "execution_count": 8
        }
      ]
    },
    {
      "cell_type": "code",
      "source": [
        "df.groupBy(\"Team\").count().show(5)\n",
        "# groups df by team, counts each occurance of team (so num players) and displays first 5"
      ],
      "metadata": {
        "colab": {
          "base_uri": "https://localhost:8080/"
        },
        "id": "UCtb2bCQcipr",
        "outputId": "649e4d80-26d4-46d8-938f-e3cdd973e650"
      },
      "execution_count": 9,
      "outputs": [
        {
          "output_type": "stream",
          "name": "stdout",
          "text": [
            "+--------------------+-----+\n",
            "|                Team|count|\n",
            "+--------------------+-----+\n",
            "|        Phoenix Suns|   15|\n",
            "|      Boston Celtics|   16|\n",
            "|    Dallas Mavericks|   13|\n",
            "|New Orleans Pelicans|   16|\n",
            "|       Brooklyn Nets|   17|\n",
            "+--------------------+-----+\n",
            "only showing top 5 rows\n",
            "\n"
          ]
        }
      ]
    },
    {
      "cell_type": "markdown",
      "source": [
        "## Ordering operations"
      ],
      "metadata": {
        "id": "ebv3LrpXcraH"
      }
    },
    {
      "cell_type": "code",
      "source": [
        "df.orderBy('Name').show(5) # Sorts asc (by default) by single col"
      ],
      "metadata": {
        "colab": {
          "base_uri": "https://localhost:8080/"
        },
        "id": "mYCDfnpocuTV",
        "outputId": "db8fa6c0-0aca-45a4-ad09-703325a528f7"
      },
      "execution_count": 10,
      "outputs": [
        {
          "output_type": "stream",
          "name": "stdout",
          "text": [
            "+-----------------+--------------------+--------+--------+--------+\n",
            "|             Name|                Team|Position|Birthday|  Salary|\n",
            "+-----------------+--------------------+--------+--------+--------+\n",
            "|     Aaron Gordon|       Orlando Magic|      PF| 9/16/95|19863636|\n",
            "|    Aaron Holiday|      Indiana Pacers|      PG| 9/30/96| 2239200|\n",
            "|      Abdel Nader|Oklahoma City Thu...|      SF| 9/25/93| 1618520|\n",
            "|      Adam Mokoka|       Chicago Bulls|       G| 7/18/98|   79568|\n",
            "|Admiral Schofield|  Washington Wizards|      SF| 3/30/97| 1000000|\n",
            "+-----------------+--------------------+--------+--------+--------+\n",
            "only showing top 5 rows\n",
            "\n"
          ]
        }
      ]
    },
    {
      "cell_type": "code",
      "source": [
        "from pyspark.sql.functions import desc\n",
        "df.orderBy(desc('Salary')).show(5) # sort by salary desc"
      ],
      "metadata": {
        "colab": {
          "base_uri": "https://localhost:8080/"
        },
        "id": "L464lvZuc0OX",
        "outputId": "8ecde4f0-f098-45d5-96b0-5fdac5cccaa4"
      },
      "execution_count": 11,
      "outputs": [
        {
          "output_type": "stream",
          "name": "stdout",
          "text": [
            "+-----------------+--------------------+--------+--------+--------+\n",
            "|             Name|                Team|Position|Birthday|  Salary|\n",
            "+-----------------+--------------------+--------+--------+--------+\n",
            "|    Stephen Curry|Golden State Warr...|      PG| 3/14/88|40231758|\n",
            "|Russell Westbrook|     Houston Rockets|      PG|11/12/88|38506482|\n",
            "|       Chris Paul|Oklahoma City Thu...|      PG|  5/6/85|38506482|\n",
            "|        John Wall|  Washington Wizards|      PG|  9/6/90|38199000|\n",
            "|     James Harden|     Houston Rockets|      PG| 8/26/89|38199000|\n",
            "+-----------------+--------------------+--------+--------+--------+\n",
            "only showing top 5 rows\n",
            "\n"
          ]
        }
      ]
    },
    {
      "cell_type": "code",
      "source": [
        "df.orderBy(['Team', desc('Salary')]).show(5)\n",
        "# sort by multiple cols"
      ],
      "metadata": {
        "colab": {
          "base_uri": "https://localhost:8080/"
        },
        "id": "uT9hoPhtc4CS",
        "outputId": "4156ae1b-5997-4a48-a309-17c34bd6edb1"
      },
      "execution_count": 12,
      "outputs": [
        {
          "output_type": "stream",
          "name": "stdout",
          "text": [
            "+----------------+-------------+--------+--------+--------+\n",
            "|            Name|         Team|Position|Birthday|  Salary|\n",
            "+----------------+-------------+--------+--------+--------+\n",
            "|Chandler Parsons|Atlanta Hawks|      SF|10/25/88|25102512|\n",
            "|     Evan Turner|Atlanta Hawks|      PG|10/27/88|18606556|\n",
            "|    Allen Crabbe|Atlanta Hawks|      SG|  4/9/92|18500000|\n",
            "| De'Andre Hunter|Atlanta Hawks|      SF| 12/2/97| 7068360|\n",
            "|   Jabari Parker|Atlanta Hawks|      PF| 3/15/95| 6500000|\n",
            "+----------------+-------------+--------+--------+--------+\n",
            "only showing top 5 rows\n",
            "\n"
          ]
        }
      ]
    },
    {
      "cell_type": "markdown",
      "source": [
        "## Adding columns"
      ],
      "metadata": {
        "id": "Tp2tq8hec8y9"
      }
    },
    {
      "cell_type": "code",
      "source": [
        "# Adding columns with withcolumn()\n",
        "from pyspark.sql.functions import col\n",
        "df_add = df.withColumn('salary_k', col('Salary')/ 1000).show(5)"
      ],
      "metadata": {
        "colab": {
          "base_uri": "https://localhost:8080/"
        },
        "id": "cdnYXCNQdAL7",
        "outputId": "0cdb3605-c6de-4347-8452-ac0095fbb982"
      },
      "execution_count": 13,
      "outputs": [
        {
          "output_type": "stream",
          "name": "stdout",
          "text": [
            "+--------------+------------------+--------+--------+-------+--------+\n",
            "|          Name|              Team|Position|Birthday| Salary|salary_k|\n",
            "+--------------+------------------+--------+--------+-------+--------+\n",
            "|  Shake Milton|Philadelphia 76ers|      SG| 9/26/96|1445697|1445.697|\n",
            "|Christian Wood|   Detroit Pistons|      PF| 9/27/95|1645357|1645.357|\n",
            "| PJ Washington| Charlotte Hornets|      PF| 8/23/98|3831840| 3831.84|\n",
            "|  Derrick Rose|   Detroit Pistons|      PG| 10/4/88|7317074|7317.074|\n",
            "| Marial Shayok|Philadelphia 76ers|       G| 7/26/95|  79568|  79.568|\n",
            "+--------------+------------------+--------+--------+-------+--------+\n",
            "only showing top 5 rows\n",
            "\n"
          ]
        }
      ]
    },
    {
      "cell_type": "markdown",
      "source": [
        "## Removing columns"
      ],
      "metadata": {
        "id": "XSrDgYOTdJGW"
      }
    },
    {
      "cell_type": "code",
      "source": [
        "# Removing cols with drop()\n",
        "df_drop = df.drop('Salary').show(5)"
      ],
      "metadata": {
        "colab": {
          "base_uri": "https://localhost:8080/"
        },
        "id": "PbdFXb2odL50",
        "outputId": "287a0a96-5b54-47d3-92d9-ada004e845f9"
      },
      "execution_count": 14,
      "outputs": [
        {
          "output_type": "stream",
          "name": "stdout",
          "text": [
            "+--------------+------------------+--------+--------+\n",
            "|          Name|              Team|Position|Birthday|\n",
            "+--------------+------------------+--------+--------+\n",
            "|  Shake Milton|Philadelphia 76ers|      SG| 9/26/96|\n",
            "|Christian Wood|   Detroit Pistons|      PF| 9/27/95|\n",
            "| PJ Washington| Charlotte Hornets|      PF| 8/23/98|\n",
            "|  Derrick Rose|   Detroit Pistons|      PG| 10/4/88|\n",
            "| Marial Shayok|Philadelphia 76ers|       G| 7/26/95|\n",
            "+--------------+------------------+--------+--------+\n",
            "only showing top 5 rows\n",
            "\n"
          ]
        }
      ]
    },
    {
      "cell_type": "markdown",
      "source": [
        "## Renaming columns"
      ],
      "metadata": {
        "id": "s-gF8Qqqdn0y"
      }
    },
    {
      "cell_type": "code",
      "source": [
        "# Renaming columns with withColumnsRenamed()\n",
        "df_ren = df.withColumnRenamed('Team', 'Team Name')\n",
        "df_ren.show(5)"
      ],
      "metadata": {
        "colab": {
          "base_uri": "https://localhost:8080/"
        },
        "id": "Xfsdsyjndq8G",
        "outputId": "3de29175-07a8-488d-ecbd-82cc29fb6086"
      },
      "execution_count": 15,
      "outputs": [
        {
          "output_type": "stream",
          "name": "stdout",
          "text": [
            "+--------------+------------------+--------+--------+-------+\n",
            "|          Name|         Team Name|Position|Birthday| Salary|\n",
            "+--------------+------------------+--------+--------+-------+\n",
            "|  Shake Milton|Philadelphia 76ers|      SG| 9/26/96|1445697|\n",
            "|Christian Wood|   Detroit Pistons|      PF| 9/27/95|1645357|\n",
            "| PJ Washington| Charlotte Hornets|      PF| 8/23/98|3831840|\n",
            "|  Derrick Rose|   Detroit Pistons|      PG| 10/4/88|7317074|\n",
            "| Marial Shayok|Philadelphia 76ers|       G| 7/26/95|  79568|\n",
            "+--------------+------------------+--------+--------+-------+\n",
            "only showing top 5 rows\n",
            "\n"
          ]
        }
      ]
    },
    {
      "cell_type": "markdown",
      "source": [
        "## Aggregations and Summary Statistics"
      ],
      "metadata": {
        "id": "sSusn6YgeITA"
      }
    },
    {
      "cell_type": "code",
      "source": [
        "# Aggregations and Summary Stats\n",
        "\n",
        "df.selectExpr(\n",
        "    'mean(Salary) as mean_sal',\n",
        "    'min(Salary) as min_sal',\n",
        "    'max(Salary) as max_sal',\n",
        "    'stddev_pop(Salary) as std_salary'\n",
        ").show()"
      ],
      "metadata": {
        "colab": {
          "base_uri": "https://localhost:8080/"
        },
        "id": "EmhHgWGkeK10",
        "outputId": "b9588c3d-734e-431c-f72e-bbf5ff606bbe"
      },
      "execution_count": 16,
      "outputs": [
        {
          "output_type": "stream",
          "name": "stdout",
          "text": [
            "+-----------------+-------+--------+-----------------+\n",
            "|         mean_sal|min_sal| max_sal|       std_salary|\n",
            "+-----------------+-------+--------+-----------------+\n",
            "|7653583.764444444|  79568|40231758|9278483.657952718|\n",
            "+-----------------+-------+--------+-----------------+\n",
            "\n"
          ]
        }
      ]
    },
    {
      "cell_type": "markdown",
      "source": [
        "## Converting Data Types"
      ],
      "metadata": {
        "id": "HmIl_JhReupi"
      }
    },
    {
      "cell_type": "code",
      "source": [
        "# Using cast() to change dtype of Salary column to integer\n",
        "df_int = df.withColumn(\"Salary_int\", col(\"Salary\").cast(\"int\"))\n",
        "df_int.dtypes"
      ],
      "metadata": {
        "colab": {
          "base_uri": "https://localhost:8080/"
        },
        "id": "iO_vvD61e08p",
        "outputId": "7aff0fd8-ab6e-4d2b-84a0-6406568b8071"
      },
      "execution_count": 17,
      "outputs": [
        {
          "output_type": "execute_result",
          "data": {
            "text/plain": [
              "[('Name', 'string'),\n",
              " ('Team', 'string'),\n",
              " ('Position', 'string'),\n",
              " ('Birthday', 'string'),\n",
              " ('Salary', 'bigint'),\n",
              " ('Salary_int', 'int')]"
            ]
          },
          "metadata": {},
          "execution_count": 17
        }
      ]
    },
    {
      "cell_type": "code",
      "source": [
        "# Using to_date() to cast \"Birthday\" col to date dtype\n",
        "from pyspark.sql.functions import to_date\n",
        "spark.conf.set(\"spark.sql.legacy.timeParserPolicy\", \"LEGACY\") # Done if using years before 2000, as this df is\n",
        "df_date = df.withColumn(\"DOB\", to_date(\"Birthday\", \"M/d/yy\"))\n",
        "df_date.dtypes"
      ],
      "metadata": {
        "colab": {
          "base_uri": "https://localhost:8080/"
        },
        "id": "UROLEWyxfQEW",
        "outputId": "99e1c29c-009d-4de6-e916-2df4deaa0f63"
      },
      "execution_count": 18,
      "outputs": [
        {
          "output_type": "execute_result",
          "data": {
            "text/plain": [
              "[('Name', 'string'),\n",
              " ('Team', 'string'),\n",
              " ('Position', 'string'),\n",
              " ('Birthday', 'string'),\n",
              " ('Salary', 'bigint'),\n",
              " ('DOB', 'date')]"
            ]
          },
          "metadata": {},
          "execution_count": 18
        }
      ]
    },
    {
      "cell_type": "markdown",
      "source": [
        "## Filtering"
      ],
      "metadata": {
        "id": "ygPjMgjtf6Ww"
      }
    },
    {
      "cell_type": "code",
      "source": [
        "# Filtering by a condition\n",
        "\n",
        "df_cond = (\n",
        "    df\n",
        "    .filter(col(\"Salary\") > 30000000)\n",
        "    .orderBy(desc(\"Salary\"))\n",
        "    .show(5)\n",
        ")"
      ],
      "metadata": {
        "colab": {
          "base_uri": "https://localhost:8080/"
        },
        "id": "yD10AJM2f7qr",
        "outputId": "a1487a46-b471-4071-a0c8-4faddfc3e7d3"
      },
      "execution_count": 19,
      "outputs": [
        {
          "output_type": "stream",
          "name": "stdout",
          "text": [
            "+-----------------+--------------------+--------+--------+--------+\n",
            "|             Name|                Team|Position|Birthday|  Salary|\n",
            "+-----------------+--------------------+--------+--------+--------+\n",
            "|    Stephen Curry|Golden State Warr...|      PG| 3/14/88|40231758|\n",
            "|       Chris Paul|Oklahoma City Thu...|      PG|  5/6/85|38506482|\n",
            "|Russell Westbrook|     Houston Rockets|      PG|11/12/88|38506482|\n",
            "|        John Wall|  Washington Wizards|      PG|  9/6/90|38199000|\n",
            "|     James Harden|     Houston Rockets|      PG| 8/26/89|38199000|\n",
            "+-----------------+--------------------+--------+--------+--------+\n",
            "only showing top 5 rows\n",
            "\n"
          ]
        }
      ]
    },
    {
      "cell_type": "code",
      "source": [
        "# Filtering using isin()\n",
        "\n",
        "df_isin = (\n",
        "    df\n",
        "    .filter(col('Team').isin('Houston Rockets', 'Washington Wizards', 'Miami Heat'))\n",
        "    .show(5)\n",
        ")"
      ],
      "metadata": {
        "colab": {
          "base_uri": "https://localhost:8080/"
        },
        "id": "7Nb47tpEgsyJ",
        "outputId": "804eb3ec-4256-4eeb-a3e9-827222dd3e38"
      },
      "execution_count": 20,
      "outputs": [
        {
          "output_type": "stream",
          "name": "stdout",
          "text": [
            "+---------------+------------------+--------+--------+--------+\n",
            "|           Name|              Team|Position|Birthday|  Salary|\n",
            "+---------------+------------------+--------+--------+--------+\n",
            "|  Kendrick Nunn|        Miami Heat|      SG|  8/3/95| 1416852|\n",
            "|  Rui Hachimura|Washington Wizards|      PF|  2/8/98| 4469160|\n",
            "|Michael Frazier|   Houston Rockets|       G|  3/8/94|   79568|\n",
            "|   Bradley Beal|Washington Wizards|      SG| 6/28/93|27093018|\n",
            "|  Thomas Bryant|Washington Wizards|       C| 7/31/97| 8000000|\n",
            "+---------------+------------------+--------+--------+--------+\n",
            "only showing top 5 rows\n",
            "\n"
          ]
        }
      ]
    },
    {
      "cell_type": "code",
      "source": [
        "# Filtering using between()\n",
        "df_btwn = (\n",
        "    df\n",
        "    .filter(col(\"Salary\").between(2000000, 2050000))\n",
        "    .show()\n",
        ")"
      ],
      "metadata": {
        "colab": {
          "base_uri": "https://localhost:8080/"
        },
        "id": "W5VqE_--hLxo",
        "outputId": "35dfeac1-733b-47d2-9c99-ee305531a12c"
      },
      "execution_count": 21,
      "outputs": [
        {
          "output_type": "stream",
          "name": "stdout",
          "text": [
            "+--------------------+--------------------+--------+--------+-------+\n",
            "|                Name|                Team|Position|Birthday| Salary|\n",
            "+--------------------+--------------------+--------+--------+-------+\n",
            "|        Torrey Craig|      Denver Nuggets|      SF|12/19/90|2000000|\n",
            "|          Trey Burke|  Philadelphia 76ers|      PG|11/12/92|2028594|\n",
            "|         Noah Vonleh|Minnesota Timberw...|       C| 8/24/95|2000000|\n",
            "|        Ben McLemore|     Houston Rockets|      SG| 2/11/93|2028594|\n",
            "|        Troy Daniels|  Los Angeles Lakers|      SG| 7/15/91|2028594|\n",
            "|        Mike Muscala|Oklahoma City Thu...|       C|  7/1/91|2028594|\n",
            "|      Caleb Swanigan|    Sacramento Kings|      PF| 4/18/97|2033160|\n",
            "|       Dylan Windler| Cleveland Cavaliers|      GF| 9/22/96|2035800|\n",
            "|       Edmond Sumner|      Indiana Pacers|      PG|12/31/95|2000000|\n",
            "|       Iman Shumpert|       Brooklyn Nets|      PG| 6/26/90|2031676|\n",
            "|Michael Carter-Wi...|       Orlando Magic|      PG|10/10/91|2028594|\n",
            "+--------------------+--------------------+--------+--------+-------+\n",
            "\n"
          ]
        }
      ]
    },
    {
      "cell_type": "markdown",
      "source": [
        "## Dealing with Missing Values"
      ],
      "metadata": {
        "id": "mFrFW5H4hsfj"
      }
    },
    {
      "cell_type": "code",
      "source": [
        "# Check for Missing Vals using isNull() and isNotNull()\n",
        "\n",
        "df_n1 =(\n",
        "    df\n",
        "    .filter(col(\"Salary\").isNull())\n",
        "    .count()\n",
        ")\n",
        "df_n1"
      ],
      "metadata": {
        "colab": {
          "base_uri": "https://localhost:8080/"
        },
        "id": "-8C-hSUMhu6O",
        "outputId": "6b81ea92-40a0-4416-f01b-a1da3fb145e9"
      },
      "execution_count": 22,
      "outputs": [
        {
          "output_type": "execute_result",
          "data": {
            "text/plain": [
              "0"
            ]
          },
          "metadata": {},
          "execution_count": 22
        }
      ]
    },
    {
      "cell_type": "code",
      "source": [
        "df_n1 =(\n",
        "    df\n",
        "    .filter(col(\"Salary\").isNotNull())\n",
        "    .count()\n",
        ")\n",
        "df_n1"
      ],
      "metadata": {
        "colab": {
          "base_uri": "https://localhost:8080/"
        },
        "id": "TUf6q043iCAI",
        "outputId": "c0b6cead-0312-40cc-88fd-fdecf7d4526d"
      },
      "execution_count": 23,
      "outputs": [
        {
          "output_type": "execute_result",
          "data": {
            "text/plain": [
              "450"
            ]
          },
          "metadata": {},
          "execution_count": 23
        }
      ]
    },
    {
      "cell_type": "code",
      "source": [
        "# Dropping rows with Null values using .na.drop()\n",
        "\n",
        "  # Dropping ANY row that has a null value in ANY columns - default setting of how parameter\n",
        "df_any = (\n",
        "    df.na.drop()\n",
        ")\n",
        "\n",
        "  # Add in how = 'all' param to drop rows that have ALL columns null\n",
        "df_all = (\n",
        "    df.na.drop(how = 'all')\n",
        ")\n",
        "\n",
        "  # Dropping with a subset, will only drop rows that have null in Name and Team cols\n",
        "df_sub = (\n",
        "    df.na.drop(subset = ['Name', 'Team'])\n",
        ")\n"
      ],
      "metadata": {
        "id": "sAVQ-JA9iGg-"
      },
      "execution_count": 24,
      "outputs": []
    },
    {
      "cell_type": "code",
      "source": [
        "# Replacing Null values using na.fill()\n",
        "\n",
        "  # Filling a specific cols nulls with a value\n",
        "df_fill = (\n",
        "    df.na\n",
        "    .fill(value = -999, subset = ['Salary'])\n",
        ")\n",
        "\n",
        "  # Filling more than one col with a dict\n",
        "df_fill_mult = (\n",
        "    df.na\n",
        "    .fill({'Salary': -999,\n",
        "           'Team': 'N/A'})\n",
        ")"
      ],
      "metadata": {
        "id": "wXMDPj4Di3RS"
      },
      "execution_count": 25,
      "outputs": []
    },
    {
      "cell_type": "markdown",
      "source": [
        "## Duplicate operations"
      ],
      "metadata": {
        "id": "Ijnh9anRi2uj"
      }
    },
    {
      "cell_type": "code",
      "source": [
        "# distinct() method will return a new df with duplicate rows removed, only unique obs left\n",
        "df_dist = (\n",
        "    df\n",
        "    .select('Team', 'Name')\n",
        "    .distinct\n",
        ")"
      ],
      "metadata": {
        "id": "PNOCG4VVjz8b"
      },
      "execution_count": 26,
      "outputs": []
    },
    {
      "cell_type": "code",
      "source": [
        "# Using dropDuplicates() with and w/out subset\n",
        "\n",
        "df_drop = df.dropDuplicates() # will remove all rows that are exact duplicates across all columns\n",
        "\n",
        "df_drop_sub = df.dropDuplicates(['Team']) # Will remove rows that have duplicates in the Team column (not a good thing to do here, but shows what it does)"
      ],
      "metadata": {
        "id": "nzy7IrZhkGOn"
      },
      "execution_count": 27,
      "outputs": []
    },
    {
      "cell_type": "markdown",
      "source": [
        "## Group operations (& Window)"
      ],
      "metadata": {
        "id": "8o2IBaqGkozg"
      }
    },
    {
      "cell_type": "markdown",
      "source": [
        "- `groupBy()` method is used to work with data at a grouped level\n",
        "- Returns a `GroupedData` object"
      ],
      "metadata": {
        "id": "Clco7q40ksAu"
      }
    },
    {
      "cell_type": "code",
      "source": [
        "df_groups = df.groupBy('Position')\n",
        "df_groups # Below shows that df_groups is a GroupedData object"
      ],
      "metadata": {
        "colab": {
          "base_uri": "https://localhost:8080/"
        },
        "id": "2MB3nqhokqS_",
        "outputId": "d0bd909a-a6e7-4e16-dc9b-cebbc2877fd9"
      },
      "execution_count": 30,
      "outputs": [
        {
          "output_type": "execute_result",
          "data": {
            "text/plain": [
              "GroupedData[grouping expressions: [Position], value: [Name: string, Team: string ... 3 more fields], type: GroupBy]"
            ]
          },
          "metadata": {},
          "execution_count": 30
        }
      ]
    },
    {
      "cell_type": "code",
      "source": [
        "# Showing number of groups\n",
        "df_groups.count().show()"
      ],
      "metadata": {
        "colab": {
          "base_uri": "https://localhost:8080/"
        },
        "id": "6hILOeLOlm3J",
        "outputId": "429d8ac5-e905-4394-9a1b-365e6de19a92"
      },
      "execution_count": 31,
      "outputs": [
        {
          "output_type": "stream",
          "name": "stdout",
          "text": [
            "+--------+-----+\n",
            "|Position|count|\n",
            "+--------+-----+\n",
            "|      FC|    1|\n",
            "|      PF|   96|\n",
            "|       F|    5|\n",
            "|      PG|   98|\n",
            "|      SF|   76|\n",
            "|       C|   88|\n",
            "|      SG|   74|\n",
            "|       G|   10|\n",
            "|      GF|    2|\n",
            "+--------+-----+\n",
            "\n"
          ]
        }
      ]
    },
    {
      "cell_type": "code",
      "source": [
        "# Using agg functions for each group\n",
        "df_groups.avg(\"Salary\").show()\n",
        "df_groups.sum(\"Salary\").show()"
      ],
      "metadata": {
        "colab": {
          "base_uri": "https://localhost:8080/"
        },
        "id": "rfJaKwGNly_E",
        "outputId": "f01a0364-0d31-480c-f236-d8f732d43239"
      },
      "execution_count": 35,
      "outputs": [
        {
          "output_type": "stream",
          "name": "stdout",
          "text": [
            "+--------+-----------------+\n",
            "|Position|      avg(Salary)|\n",
            "+--------+-----------------+\n",
            "|      FC|          79568.0|\n",
            "|      PF|        7223613.5|\n",
            "|       F|        2322338.4|\n",
            "|      PG|        9781712.0|\n",
            "|      SF|7466574.565789473|\n",
            "|       C|9686050.784090908|\n",
            "|      SG|4781786.243243244|\n",
            "|       G|         372833.4|\n",
            "|      GF|        1467055.0|\n",
            "+--------+-----------------+\n",
            "\n",
            "+--------+-----------+\n",
            "|Position|sum(Salary)|\n",
            "+--------+-----------+\n",
            "|      FC|      79568|\n",
            "|      PF|  693466896|\n",
            "|       F|   11611692|\n",
            "|      PG|  958607776|\n",
            "|      SF|  567459667|\n",
            "|       C|  852372469|\n",
            "|      SG|  353852182|\n",
            "|       G|    3728334|\n",
            "|      GF|    2934110|\n",
            "+--------+-----------+\n",
            "\n"
          ]
        }
      ]
    },
    {
      "cell_type": "code",
      "source": [
        "# Group Agg with many cols\n",
        "from pyspark.sql.functions import min, max, mean\n",
        "\n",
        "team_group = (\n",
        "    df.groupBy('Team').agg(\n",
        "        min(\"Salary\").alias('min_sal'),\n",
        "        max('Salary').alias('max_sal'),\n",
        "        mean(\"Salary\").alias(\"mean_sal\")\n",
        "    ).show(5)\n",
        ")"
      ],
      "metadata": {
        "colab": {
          "base_uri": "https://localhost:8080/"
        },
        "id": "eYLsbU5wmPF9",
        "outputId": "f433245f-2e42-4d48-8373-443ca479ca07"
      },
      "execution_count": 37,
      "outputs": [
        {
          "output_type": "stream",
          "name": "stdout",
          "text": [
            "+--------------------+-------+--------+-----------------+\n",
            "|                Team|min_sal| max_sal|         mean_sal|\n",
            "+--------------------+-------+--------+-----------------+\n",
            "|        Phoenix Suns|  79568|27285000|6791594.066666666|\n",
            "|      Boston Celtics|  79568|32742000|       7238863.25|\n",
            "|    Dallas Mavericks|  79568|27285000|7432050.846153846|\n",
            "|New Orleans Pelicans|  79568|26131111|      6512430.125|\n",
            "|       Brooklyn Nets|  79568|37199000|7215064.764705882|\n",
            "+--------------------+-------+--------+-----------------+\n",
            "only showing top 5 rows\n",
            "\n"
          ]
        }
      ]
    },
    {
      "cell_type": "code",
      "source": [
        "# Using a window function to add group level stats to og data frame\n",
        "from pyspark.sql.window import Window\n",
        "from pyspark.sql.functions import avg\n",
        "df_ = df\n",
        "\n",
        "w = Window.partitionBy(\"Team\")\n",
        "\n",
        "df_w_mean = df_.withColumn(\n",
        "    'mean_salary_by_team',\n",
        "    avg(col(\"Salary\")).over(w)\n",
        ").show()\n"
      ],
      "metadata": {
        "colab": {
          "base_uri": "https://localhost:8080/"
        },
        "id": "d-_QL0W8m7bR",
        "outputId": "68e7d42c-d101-4aec-d299-f32ad029de27"
      },
      "execution_count": 39,
      "outputs": [
        {
          "output_type": "stream",
          "name": "stdout",
          "text": [
            "+----------------+--------------+--------+--------+--------+-------------------+\n",
            "|            Name|          Team|Position|Birthday|  Salary|mean_salary_by_team|\n",
            "+----------------+--------------+--------+--------+--------+-------------------+\n",
            "|   Kevin Huerter| Atlanta Hawks|      SG| 8/27/98| 2636280|  6503699.866666666|\n",
            "|     Evan Turner| Atlanta Hawks|      PG|10/27/88|18606556|  6503699.866666666|\n",
            "|    John Collins| Atlanta Hawks|      PF| 9/23/97| 2686560|  6503699.866666666|\n",
            "|    Vince Carter| Atlanta Hawks|      PF| 1/26/77| 2564753|  6503699.866666666|\n",
            "|Chandler Parsons| Atlanta Hawks|      SF|10/25/88|25102512|  6503699.866666666|\n",
            "|    Damian Jones| Atlanta Hawks|       C| 6/30/95| 2305057|  6503699.866666666|\n",
            "|    Allen Crabbe| Atlanta Hawks|      SG|  4/9/92|18500000|  6503699.866666666|\n",
            "|     Cam Reddish| Atlanta Hawks|      SF|  9/1/99| 4245720|  6503699.866666666|\n",
            "|   Charlie Brown| Atlanta Hawks|      SG|  2/2/97|   79568|  6503699.866666666|\n",
            "| De'Andre Hunter| Atlanta Hawks|      SF| 12/2/97| 7068360|  6503699.866666666|\n",
            "| Brandon Goodwin| Atlanta Hawks|      PG| 10/2/95|   79568|  6503699.866666666|\n",
            "|  Tyrone Wallace| Atlanta Hawks|      PG| 6/10/94| 1620564|  6503699.866666666|\n",
            "|   Jabari Parker| Atlanta Hawks|      PF| 3/15/95| 6500000|  6503699.866666666|\n",
            "|        Alex Len| Atlanta Hawks|       C| 6/16/93| 4160000|  6503699.866666666|\n",
            "|  Bruno Fernando| Atlanta Hawks|       C| 8/15/98| 1400000|  6503699.866666666|\n",
            "|    Marcus Smart|Boston Celtics|      PG|  3/6/94|12553571|         7238863.25|\n",
            "|  Brad Wanamaker|Boston Celtics|      PG| 7/25/89| 1445697|         7238863.25|\n",
            "|  Grant Williams|Boston Celtics|      PF|11/30/98| 2379840|         7238863.25|\n",
            "|  Tremont Waters|Boston Celtics|      PG| 1/10/98|   79568|         7238863.25|\n",
            "|    Daniel Theis|Boston Celtics|       C|  4/4/92| 5000000|         7238863.25|\n",
            "+----------------+--------------+--------+--------+--------+-------------------+\n",
            "only showing top 20 rows\n",
            "\n"
          ]
        }
      ]
    }
  ]
}