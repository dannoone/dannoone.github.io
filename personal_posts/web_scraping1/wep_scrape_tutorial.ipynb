{
  "cells": [
    {
      "cell_type": "raw",
      "metadata": {},
      "source": [
        "---\n",
        "title: \"Web Scraping using Beautiful Soup\"\n",
        "subtitle: 'From a tutorial on YouTube'\n",
        "author: 'Daniel Noone'\n",
        "date: '02-09-2024'\n",
        "categories: [Python, Web Scraping, Beautiful Soup]\n",
        "image: soup.jfif\n",
        "---"
      ],
      "id": "03d9d36c"
    },
    {
      "cell_type": "markdown",
      "metadata": {},
      "source": [
        "# First you have to import the required modules"
      ],
      "id": "b1ba6073"
    },
    {
      "cell_type": "code",
      "metadata": {},
      "source": [
        "from bs4 import BeautifulSoup\n",
        "import requests"
      ],
      "id": "f170ad8f",
      "execution_count": null,
      "outputs": []
    },
    {
      "cell_type": "markdown",
      "metadata": {},
      "source": [
        "# Have to set the URL to the website and \n"
      ],
      "id": "a0a75c2e"
    }
  ],
  "metadata": {
    "kernelspec": {
      "display_name": "Python 3",
      "language": "python",
      "name": "python3"
    }
  },
  "nbformat": 4,
  "nbformat_minor": 5
}