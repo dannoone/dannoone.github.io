{
  "cells": [
    {
      "cell_type": "markdown",
      "metadata": {},
      "source": [
        "---\n",
        "title: \"Web Scraping using Beautiful Soup\"\n",
        "subtitle: 'From a tutorial on YouTube'\n",
        "author: 'Daniel Noone'\n",
        "date: '02-09-2024'\n",
        "categories: [Python, Web Scraping, Beautiful Soup]\n",
        "image: soup.jfif\n",
        "---\n",
        "\n",
        "\n",
        "# First you have to import the required modules"
      ],
      "id": "de0c1e77"
    },
    {
      "cell_type": "code",
      "metadata": {},
      "source": [
        "from bs4 import BeautifulSoup\n",
        "import requests"
      ],
      "id": "cbb93019",
      "execution_count": null,
      "outputs": []
    },
    {
      "cell_type": "markdown",
      "metadata": {},
      "source": [
        "# Have to set the URL to the website and \n"
      ],
      "id": "828a7b0a"
    }
  ],
  "metadata": {
    "kernelspec": {
      "display_name": "Python 3",
      "language": "python",
      "name": "python3"
    }
  },
  "nbformat": 4,
  "nbformat_minor": 5
}