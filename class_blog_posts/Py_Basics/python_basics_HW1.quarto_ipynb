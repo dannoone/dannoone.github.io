{
  "cells": [
    {
      "cell_type": "markdown",
      "metadata": {},
      "source": [
        "---\n",
        "title: \"Python Basics\"\n",
        "subtitle: \"A quick look at the basics of python programming\"\n",
        "author: 'Daniel Noone'\n",
        "date: '02-10-2024'\n",
        "categories: [Python]\n",
        "image: py.jfif\n",
        "\n",
        "highlight-style: monokai\n",
        "fig-width: 9\n",
        "\n",
        "toc: TRUE\n",
        "toc-title: 'Table of Contents'\n",
        "toc-depth: 2\n",
        "number-sections: true\n",
        "\n",
        "execute:\n",
        "  code-tools: true\n",
        "  message: false\n",
        "  warning: false\n",
        "---\n",
        "\n",
        "\n",
        "# Introduction\n",
        "\n",
        "This blog post is meant to give a brief introduction of some of the main topics in basic python programming\n",
        "\n",
        "# Variables & Assignment\n",
        "\n",
        "  * In python programming, variables are just names for values not actual storage places. <br>\n",
        "\n",
        "  * These values can be singular such as a numeric value of 10, but there can also be multiple values of the same or varying data types <br>\n",
        "\n",
        "  * an equal sign `=` is used to assign values to their respective variables (or objects)"
      ],
      "id": "8ea7c830"
    },
    {
      "cell_type": "code",
      "metadata": {},
      "source": [
        "# Single value\n",
        "x = 10\n",
        "\n",
        "# Multiple values\n",
        "y = [1,2,3]\n",
        "\n",
        "#Multiple types\n",
        "z = ['a','b','c',1,2,3]"
      ],
      "id": "28308121",
      "execution_count": null,
      "outputs": []
    },
    {
      "cell_type": "markdown",
      "metadata": {},
      "source": [
        "# Data Types in Python\n",
        "\n",
        "There are multiple different data types recognized by the python language.\n",
        "\n",
        "The most basic types are as follows:"
      ],
      "id": "88660a80"
    },
    {
      "cell_type": "code",
      "metadata": {},
      "source": [
        "# Integer, numeric values with no decimals\n",
        "x = 10\n",
        "\n",
        "# Float, numeric values with decimals\n",
        "y = 10.99\n",
        "\n",
        "# String, character values surrounded by '' or \"\"\n",
        "z = 'hello, world' #OR \n",
        "z = \"hello, world\"\n",
        "\n",
        "# Boolean, logical values\n",
        "x = True\n",
        "y = False\n",
        "\n",
        "# Nothing, no value\n",
        "z = None\n",
        "\n",
        "# List, data container for any data type (even multiple types at once)\n",
        "list_ = [10, 1.55, 'apple', True, False, None]\n",
        "\n",
        "# Tuple, non mutable data container\n",
        "tup = (2, 3 , 4)\n",
        "\n",
        "# Set\n",
        "set_ = {'a', 'b'}\n",
        "\n",
        "# Dictionary\n",
        "dict_ = {'first': 'a', 'second': 'b'}"
      ],
      "id": "56e246d4",
      "execution_count": null,
      "outputs": []
    },
    {
      "cell_type": "markdown",
      "metadata": {},
      "source": [
        "# Operators\n",
        "\n",
        "Mathematical operations can also be done in python using preset operators:"
      ],
      "id": "05aa85d9"
    },
    {
      "cell_type": "code",
      "metadata": {},
      "source": [
        "# Addition\n",
        "x = 5 + 5 # x would have value of 10\n",
        "y = x + 5 # y would have value of 15\n",
        "\n",
        "# Subtraction\n",
        "x = 5 - 1 # x would have value of 4\n",
        "y = x - 2 # y would have value of 2\n",
        "\n",
        "# Multiplication and Exponents (* for multiplication, ** for exponents)\n",
        "x = 5 * 2**2 # x would have value of 20\n",
        "y = x**2 * 5 # y would have value of 2000\n",
        "\n",
        "# Division and Integer Division (if want int type out of operation, use //)\n",
        "x = 4/2 # x would have value of 2.0\n",
        "y = x/2 # y would have value of 1.0\n",
        "\n",
        "x = 8//2 # x would have value of 4 (int type not float)\n",
        "y = x//2 # y would have value of 2 (again, int not float)\n",
        "\n",
        "# Can also perform string concatenation\n",
        "str_one = 'hello,'\n",
        "str_two = ' world'\n",
        "str_ = str_one + str_two # Result of summation is concatenation of str_one and str_two \n",
        "                          # = 'hello, world'"
      ],
      "id": "550cebc7",
      "execution_count": null,
      "outputs": []
    },
    {
      "cell_type": "markdown",
      "metadata": {},
      "source": [
        "# Conditionals\n",
        "\n",
        "Can perform conditional operations in python\n",
        "\n",
        "  * If statements\n",
        "  * If else\n",
        "  * etc...\n"
      ],
      "id": "c38e8bc3"
    },
    {
      "cell_type": "code",
      "metadata": {},
      "source": [
        "# Can use if and elif and else to formulate conditional operations\n",
        "# For example...\n",
        "\n",
        "name = 'David'\n",
        "score = 99\n",
        "\n",
        "if name == 'David' and score >= 90:\n",
        "  print('Great job, David!')\n",
        "elif name != 'David' and score >= 90:\n",
        "  print('Great job, stranger!')\n",
        "elif name == 'David' and score < 90:\n",
        "  print('You failed, David!')\n",
        "elif name != 'David' and score < 90:\n",
        "  print('You failed, stranger!')"
      ],
      "id": "d95b305c",
      "execution_count": null,
      "outputs": []
    },
    {
      "cell_type": "markdown",
      "metadata": {},
      "source": [
        "-> Here the result is `'Great job, David!'` since the name is `'David'` and the score is `99`\n",
        "\n",
        "# Casting Variables\n",
        "\n",
        "Casting is when we explicitly assign a data type to a variable\n",
        "\n",
        "  * `str()` will convert to string type\n",
        "  * `int()` will convert to integer type\n",
        "  * `float()` will convert to float type\n"
      ],
      "id": "2b71523e"
    },
    {
      "cell_type": "code",
      "metadata": {},
      "source": [
        "x = 10 # integer type\n",
        "y = '20' # string type\n",
        "z = 1.55 # float type\n",
        "\n",
        "x_ = float(x) # makes 10 into float type = 10.0\n",
        "y_ = int(y) # makes '20' into int type = 20\n",
        "z_ = int(z) # makes 1.55 into int type = 1 (DOES NOT ROUND)\n",
        "x_str = str(x) # makes 10 into str type = '10'"
      ],
      "id": "50739004",
      "execution_count": null,
      "outputs": []
    },
    {
      "cell_type": "markdown",
      "metadata": {},
      "source": [
        "# Slicing Methods\n",
        "\n",
        "  * Python uses indexing to slice data\n",
        "  * The index starts at 0, **not 1**\n",
        "  \n",
        "  ![](slice.jfif)\n",
        "\n",
        "  * As seen in the image, negative values can also be used\n",
        "\n",
        "  * The syntax is as follows\n",
        "    * `[:]`       - will return the whole value\n",
        "    * `[start :]` - will return from a starting index value until the end\n",
        "    * `[: end]`   - will return from the start until the end index value\n",
        "    * `[start : end]` - Will return from start value to end value\n",
        "    * `[start : end: step]` - will return from start to end by a certain step amount\n"
      ],
      "id": "62b2b6aa"
    },
    {
      "cell_type": "code",
      "metadata": {},
      "source": [
        "string = 'abcdefghij'\n",
        "\n",
        "string[:5] # returns 'abcde' (first 5 characters of string)\n",
        "string[5:] # returns 'fghij' (last 5 characters of string)\n",
        "string[0:5:2] # returns 'ace' (first 5 characters, but in steps of 2)\n",
        "\n",
        "list_ = ['apple','banana','pear','strawberry','papaya','pineapple']\n",
        "\n",
        "list_[:3] # returns ['apple', 'banana', 'pear'] (first 3 elements of list)\n",
        "list_[3:] # returns ['strawberry', 'papaya', 'pineapple'] (last 3 elements of list)\n",
        "list_[0::2] # returns ['apple', 'pear', 'papaya'] (whole list by steps of 2)"
      ],
      "id": "d11f2e89",
      "execution_count": null,
      "outputs": []
    },
    {
      "cell_type": "markdown",
      "metadata": {},
      "source": [
        "# Importing Modules, Packages and Libraries\n",
        "\n",
        "  * `Module` - a bunch of related code saved in a file with extension .py\n",
        "  * `Package` - directory of a collection of modules\n",
        "  * `Library` - a collection of packages\n",
        "  \n",
        "  \n",
        "  * `import` is called on a module to be able to use it\n",
        "    * Then have to call module along with any functions associated"
      ],
      "id": "c66e9d1f"
    },
    {
      "cell_type": "code",
      "metadata": {},
      "source": [
        "import pandas\n",
        "# could then use pandas.read_csv() to read a csv"
      ],
      "id": "77a0143d",
      "execution_count": null,
      "outputs": []
    },
    {
      "cell_type": "markdown",
      "metadata": {},
      "source": [
        "  * `import` `as` is called on a module to give it a name to make things more efficient"
      ],
      "id": "0c9535c1"
    },
    {
      "cell_type": "code",
      "metadata": {},
      "source": [
        "import pandas as pd\n",
        "# Then could use pd.read_csv() instead of pandas.read_csv()"
      ],
      "id": "d01f076f",
      "execution_count": null,
      "outputs": []
    },
    {
      "cell_type": "markdown",
      "metadata": {},
      "source": [
        "  * `from` and `import` is used to load a specific function from a module"
      ],
      "id": "0be977ad"
    },
    {
      "cell_type": "code",
      "metadata": {},
      "source": [
        "from pandas import read_csv\n",
        "# then can just use read_csv() as if it were a base function"
      ],
      "id": "2b0d9be9",
      "execution_count": null,
      "outputs": []
    },
    {
      "cell_type": "markdown",
      "metadata": {},
      "source": [
        "  * In order to install a module, package or library - have to call `pip install` in terminal or `!pip install` if on Google Colab\n",
        "    * !pip install is also used for Rstudio"
      ],
      "id": "61c8fea7"
    },
    {
      "cell_type": "code",
      "metadata": {},
      "source": [
        "# !pip install itables"
      ],
      "id": "a8d2f2f0",
      "execution_count": null,
      "outputs": []
    }
  ],
  "metadata": {
    "kernelspec": {
      "display_name": "Python 3",
      "language": "python",
      "name": "python3"
    }
  },
  "nbformat": 4,
  "nbformat_minor": 5
}